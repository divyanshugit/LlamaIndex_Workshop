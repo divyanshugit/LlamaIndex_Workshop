{
  "cells": [
    {
      "cell_type": "code",
      "execution_count": null,
      "metadata": {
        "colab": {
          "base_uri": "https://localhost:8080/"
        },
        "id": "cfmBEe4ITTS1",
        "outputId": "6ff73511-e254-4498-9a88-f1a37f7a6808"
      },
      "outputs": [
        {
          "name": "stdout",
          "output_type": "stream",
          "text": [
            "Collecting llama-index\n",
            "  Downloading llama_index-0.8.0-py3-none-any.whl (669 kB)\n",
            "\u001b[2K     \u001b[90m━━━━━━━━━━━━━━━━━━━━━━━━━━━━━━━━━━━━━━━\u001b[0m \u001b[32m669.9/669.9 kB\u001b[0m \u001b[31m5.7 MB/s\u001b[0m eta \u001b[36m0:00:00\u001b[0m\n",
            "\u001b[?25hCollecting tiktoken (from llama-index)\n",
            "  Downloading tiktoken-0.4.0-cp310-cp310-manylinux_2_17_x86_64.manylinux2014_x86_64.whl (1.7 MB)\n",
            "\u001b[2K     \u001b[90m━━━━━━━━━━━━━━━━━━━━━━━━━━━━━━━━━━━━━━━━\u001b[0m \u001b[32m1.7/1.7 MB\u001b[0m \u001b[31m9.5 MB/s\u001b[0m eta \u001b[36m0:00:00\u001b[0m\n",
            "\u001b[?25hCollecting dataclasses-json (from llama-index)\n",
            "  Downloading dataclasses_json-0.5.14-py3-none-any.whl (26 kB)\n",
            "Collecting langchain>=0.0.262 (from llama-index)\n",
            "  Downloading langchain-0.0.262-py3-none-any.whl (1.5 MB)\n",
            "\u001b[2K     \u001b[90m━━━━━━━━━━━━━━━━━━━━━━━━━━━━━━━━━━━━━━━━\u001b[0m \u001b[32m1.5/1.5 MB\u001b[0m \u001b[31m17.5 MB/s\u001b[0m eta \u001b[36m0:00:00\u001b[0m\n",
            "\u001b[?25hRequirement already satisfied: sqlalchemy>=2.0.15 in /usr/local/lib/python3.10/dist-packages (from llama-index) (2.0.19)\n",
            "Requirement already satisfied: numpy in /usr/local/lib/python3.10/dist-packages (from llama-index) (1.23.5)\n",
            "Requirement already satisfied: tenacity<9.0.0,>=8.2.0 in /usr/local/lib/python3.10/dist-packages (from llama-index) (8.2.2)\n",
            "Collecting openai>=0.26.4 (from llama-index)\n",
            "  Downloading openai-0.27.8-py3-none-any.whl (73 kB)\n",
            "\u001b[2K     \u001b[90m━━━━━━━━━━━━━━━━━━━━━━━━━━━━━━━━━━━━━━━━\u001b[0m \u001b[32m73.6/73.6 kB\u001b[0m \u001b[31m9.3 MB/s\u001b[0m eta \u001b[36m0:00:00\u001b[0m\n",
            "\u001b[?25hRequirement already satisfied: pandas in /usr/local/lib/python3.10/dist-packages (from llama-index) (1.5.3)\n",
            "Collecting urllib3<2 (from llama-index)\n",
            "  Downloading urllib3-1.26.16-py2.py3-none-any.whl (143 kB)\n",
            "\u001b[2K     \u001b[90m━━━━━━━━━━━━━━━━━━━━━━━━━━━━━━━━━━━━━━\u001b[0m \u001b[32m143.1/143.1 kB\u001b[0m \u001b[31m17.3 MB/s\u001b[0m eta \u001b[36m0:00:00\u001b[0m\n",
            "\u001b[?25hRequirement already satisfied: fsspec>=2023.5.0 in /usr/local/lib/python3.10/dist-packages (from llama-index) (2023.6.0)\n",
            "Collecting typing-inspect>=0.8.0 (from llama-index)\n",
            "  Downloading typing_inspect-0.9.0-py3-none-any.whl (8.8 kB)\n",
            "Requirement already satisfied: typing-extensions>=4.5.0 in /usr/local/lib/python3.10/dist-packages (from llama-index) (4.7.1)\n",
            "Requirement already satisfied: beautifulsoup4 in /usr/local/lib/python3.10/dist-packages (from llama-index) (4.11.2)\n",
            "Requirement already satisfied: nest-asyncio in /usr/local/lib/python3.10/dist-packages (from llama-index) (1.5.7)\n",
            "Requirement already satisfied: PyYAML>=5.3 in /usr/local/lib/python3.10/dist-packages (from langchain>=0.0.262->llama-index) (6.0.1)\n",
            "Requirement already satisfied: aiohttp<4.0.0,>=3.8.3 in /usr/local/lib/python3.10/dist-packages (from langchain>=0.0.262->llama-index) (3.8.5)\n",
            "Requirement already satisfied: async-timeout<5.0.0,>=4.0.0 in /usr/local/lib/python3.10/dist-packages (from langchain>=0.0.262->llama-index) (4.0.2)\n",
            "Collecting langsmith<0.1.0,>=0.0.11 (from langchain>=0.0.262->llama-index)\n",
            "  Downloading langsmith-0.0.22-py3-none-any.whl (32 kB)\n",
            "Requirement already satisfied: numexpr<3.0.0,>=2.8.4 in /usr/local/lib/python3.10/dist-packages (from langchain>=0.0.262->llama-index) (2.8.5)\n",
            "Collecting openapi-schema-pydantic<2.0,>=1.2 (from langchain>=0.0.262->llama-index)\n",
            "  Downloading openapi_schema_pydantic-1.2.4-py3-none-any.whl (90 kB)\n",
            "\u001b[2K     \u001b[90m━━━━━━━━━━━━━━━━━━━━━━━━━━━━━━━━━━━━━━━━\u001b[0m \u001b[32m90.0/90.0 kB\u001b[0m \u001b[31m10.6 MB/s\u001b[0m eta \u001b[36m0:00:00\u001b[0m\n",
            "\u001b[?25hCollecting pydantic<2,>=1 (from langchain>=0.0.262->llama-index)\n",
            "  Downloading pydantic-1.10.12-cp310-cp310-manylinux_2_17_x86_64.manylinux2014_x86_64.whl (3.1 MB)\n",
            "\u001b[2K     \u001b[90m━━━━━━━━━━━━━━━━━━━━━━━━━━━━━━━━━━━━━━━━\u001b[0m \u001b[32m3.1/3.1 MB\u001b[0m \u001b[31m24.9 MB/s\u001b[0m eta \u001b[36m0:00:00\u001b[0m\n",
            "\u001b[?25hRequirement already satisfied: requests<3,>=2 in /usr/local/lib/python3.10/dist-packages (from langchain>=0.0.262->llama-index) (2.31.0)\n",
            "Collecting marshmallow<4.0.0,>=3.18.0 (from dataclasses-json->llama-index)\n",
            "  Downloading marshmallow-3.20.1-py3-none-any.whl (49 kB)\n",
            "\u001b[2K     \u001b[90m━━━━━━━━━━━━━━━━━━━━━━━━━━━━━━━━━━━━━━━━\u001b[0m \u001b[32m49.4/49.4 kB\u001b[0m \u001b[31m5.7 MB/s\u001b[0m eta \u001b[36m0:00:00\u001b[0m\n",
            "\u001b[?25hRequirement already satisfied: tqdm in /usr/local/lib/python3.10/dist-packages (from openai>=0.26.4->llama-index) (4.66.0)\n",
            "Requirement already satisfied: greenlet!=0.4.17 in /usr/local/lib/python3.10/dist-packages (from sqlalchemy>=2.0.15->llama-index) (2.0.2)\n",
            "Collecting mypy-extensions>=0.3.0 (from typing-inspect>=0.8.0->llama-index)\n",
            "  Downloading mypy_extensions-1.0.0-py3-none-any.whl (4.7 kB)\n",
            "Requirement already satisfied: soupsieve>1.2 in /usr/local/lib/python3.10/dist-packages (from beautifulsoup4->llama-index) (2.4.1)\n",
            "Requirement already satisfied: python-dateutil>=2.8.1 in /usr/local/lib/python3.10/dist-packages (from pandas->llama-index) (2.8.2)\n",
            "Requirement already satisfied: pytz>=2020.1 in /usr/local/lib/python3.10/dist-packages (from pandas->llama-index) (2023.3)\n",
            "Requirement already satisfied: regex>=2022.1.18 in /usr/local/lib/python3.10/dist-packages (from tiktoken->llama-index) (2023.6.3)\n",
            "Requirement already satisfied: attrs>=17.3.0 in /usr/local/lib/python3.10/dist-packages (from aiohttp<4.0.0,>=3.8.3->langchain>=0.0.262->llama-index) (23.1.0)\n",
            "Requirement already satisfied: charset-normalizer<4.0,>=2.0 in /usr/local/lib/python3.10/dist-packages (from aiohttp<4.0.0,>=3.8.3->langchain>=0.0.262->llama-index) (3.2.0)\n",
            "Requirement already satisfied: multidict<7.0,>=4.5 in /usr/local/lib/python3.10/dist-packages (from aiohttp<4.0.0,>=3.8.3->langchain>=0.0.262->llama-index) (6.0.4)\n",
            "Requirement already satisfied: yarl<2.0,>=1.0 in /usr/local/lib/python3.10/dist-packages (from aiohttp<4.0.0,>=3.8.3->langchain>=0.0.262->llama-index) (1.9.2)\n",
            "Requirement already satisfied: frozenlist>=1.1.1 in /usr/local/lib/python3.10/dist-packages (from aiohttp<4.0.0,>=3.8.3->langchain>=0.0.262->llama-index) (1.4.0)\n",
            "Requirement already satisfied: aiosignal>=1.1.2 in /usr/local/lib/python3.10/dist-packages (from aiohttp<4.0.0,>=3.8.3->langchain>=0.0.262->llama-index) (1.3.1)\n",
            "Requirement already satisfied: packaging>=17.0 in /usr/local/lib/python3.10/dist-packages (from marshmallow<4.0.0,>=3.18.0->dataclasses-json->llama-index) (23.1)\n",
            "Requirement already satisfied: six>=1.5 in /usr/local/lib/python3.10/dist-packages (from python-dateutil>=2.8.1->pandas->llama-index) (1.16.0)\n",
            "Requirement already satisfied: idna<4,>=2.5 in /usr/local/lib/python3.10/dist-packages (from requests<3,>=2->langchain>=0.0.262->llama-index) (3.4)\n",
            "Requirement already satisfied: certifi>=2017.4.17 in /usr/local/lib/python3.10/dist-packages (from requests<3,>=2->langchain>=0.0.262->llama-index) (2023.7.22)\n",
            "Installing collected packages: urllib3, pydantic, mypy-extensions, marshmallow, typing-inspect, openapi-schema-pydantic, tiktoken, openai, langsmith, dataclasses-json, langchain, llama-index\n",
            "  Attempting uninstall: urllib3\n",
            "    Found existing installation: urllib3 2.0.4\n",
            "    Uninstalling urllib3-2.0.4:\n",
            "      Successfully uninstalled urllib3-2.0.4\n",
            "  Attempting uninstall: pydantic\n",
            "    Found existing installation: pydantic 2.1.1\n",
            "    Uninstalling pydantic-2.1.1:\n",
            "      Successfully uninstalled pydantic-2.1.1\n",
            "Successfully installed dataclasses-json-0.5.14 langchain-0.0.262 langsmith-0.0.22 llama-index-0.8.0 marshmallow-3.20.1 mypy-extensions-1.0.0 openai-0.27.8 openapi-schema-pydantic-1.2.4 pydantic-1.10.12 tiktoken-0.4.0 typing-inspect-0.9.0 urllib3-1.26.16\n"
          ]
        }
      ],
      "source": [
        "pip install llama-index"
      ]
    },
    {
      "cell_type": "markdown",
      "metadata": {
        "id": "kngfWq2LHeBo"
      },
      "source": [
        "# Problem Statement\n",
        "\n",
        "#### We want to perform RAG on the retrieved results from SQL DB."
      ]
    },
    {
      "cell_type": "code",
      "execution_count": null,
      "metadata": {
        "id": "9iD0UWIvT1CA"
      },
      "outputs": [],
      "source": [
        "from sqlalchemy import (\n",
        "    create_engine,\n",
        "    MetaData,\n",
        "    Table,\n",
        "    Column,\n",
        "    String,\n",
        "    Integer,\n",
        "    select,\n",
        "    column,\n",
        ")\n",
        "\n",
        "from sqlalchemy import insert\n",
        "from llama_index.indices.struct_store.sql_query import NLSQLTableQueryEngine\n",
        "from llama_index import Document, ListIndex\n",
        "from llama_index import SQLDatabase, ServiceContext\n",
        "from llama_index.llms import ChatMessage, OpenAI\n",
        "from typing import List\n",
        "import ast\n",
        "import openai\n",
        "from IPython.display import display, HTML"
      ]
    },
    {
      "cell_type": "markdown",
      "metadata": {
        "id": "-2Ev9bE9l0xr"
      },
      "source": [
        "# Let's have a sample dataset on product reviews. (Created using GPT4)"
      ]
    },
    {
      "cell_type": "code",
      "execution_count": null,
      "metadata": {
        "id": "CBMrXXzclx-g"
      },
      "outputs": [],
      "source": [
        "rows = [\n",
        "    # iPhone13 Reviews\n",
        "    {\"id\": 1, \"category\": \"Phone\", \"product_name\": \"Iphone13\", \"review\": \"Amazing battery life and camera quality. Best iPhone yet.\"},\n",
        "    {\"id\": 2, \"category\": \"Phone\", \"product_name\": \"Iphone13\", \"review\": \"Stunning design and performance. Apple has done it again.\"},\n",
        "    {\"id\": 3, \"category\": \"Phone\", \"product_name\": \"Iphone13\", \"review\": \"The display is just incredible. Love the A15 chip's speed.\"},\n",
        "    {\"id\": 4, \"category\": \"Phone\", \"product_name\": \"Iphone13\", \"review\": \"Superb user experience with the new iOS. Seamless and smooth.\"},\n",
        "    {\"id\": 5, \"category\": \"Phone\", \"product_name\": \"Iphone13\", \"review\": \"5G capabilities are outstanding. Internet browsing is lightning fast.\"},\n",
        "    {\"id\": 6, \"category\": \"Phone\", \"product_name\": \"Iphone13\", \"review\": \"The build quality is top-notch. Feels premium in hand.\"},\n",
        "    {\"id\": 7, \"category\": \"Phone\", \"product_name\": \"Iphone13\", \"review\": \"Love the enhanced camera system. Pictures are more vivid.\"},\n",
        "    {\"id\": 8, \"category\": \"Phone\", \"product_name\": \"Iphone13\", \"review\": \"Face ID is faster and more responsive.\"},\n",
        "    {\"id\": 9, \"category\": \"Phone\", \"product_name\": \"Iphone13\", \"review\": \"Storage options are great. Worth the investment.\"},\n",
        "    {\"id\": 10, \"category\": \"Phone\", \"product_name\": \"Iphone13\", \"review\": \"Night mode photos are simply outstanding.\"},\n",
        "    {\"id\": 11, \"category\": \"Phone\", \"product_name\": \"Iphone13\", \"review\": \"The ceramic shield front cover is a nice touch.\"},\n",
        "    {\"id\": 12, \"category\": \"Phone\", \"product_name\": \"Iphone13\", \"review\": \"Battery life lasts all day even with heavy use.\"},\n",
        "    {\"id\": 13, \"category\": \"Phone\", \"product_name\": \"Iphone13\", \"review\": \"Video recording quality is cinema-grade.\"},\n",
        "    {\"id\": 14, \"category\": \"Phone\", \"product_name\": \"Iphone13\", \"review\": \"Gaming experience is smooth with no lags.\"},\n",
        "    {\"id\": 15, \"category\": \"Phone\", \"product_name\": \"Iphone13\", \"review\": \"Dual eSIM support is a game changer for travelers.\"},\n",
        "    {\"id\": 16, \"category\": \"Phone\", \"product_name\": \"Iphone13\", \"review\": \"Stereo speakers produce clear and loud audio.\"},\n",
        "    {\"id\": 17, \"category\": \"Phone\", \"product_name\": \"Iphone13\", \"review\": \"MagSafe accessories add to its versatility.\"},\n",
        "    {\"id\": 18, \"category\": \"Phone\", \"product_name\": \"Iphone13\", \"review\": \"Water and dust resistance is reliable.\"},\n",
        "    {\"id\": 19, \"category\": \"Phone\", \"product_name\": \"Iphone13\", \"review\": \"Graphics and performance are top-tier.\"},\n",
        "    {\"id\": 20, \"category\": \"Phone\", \"product_name\": \"Iphone13\", \"review\": \"All-around, the best smartphone on the market.\"},\n",
        "\n",
        "    # SamsungTV Reviews\n",
        "    {\"id\": 21, \"category\": \"TV\", \"product_name\": \"SamsungTV\", \"review\": \"Impressive picture clarity and vibrant colors. A top-notch TV.\"},\n",
        "    {\"id\": 22, \"category\": \"TV\", \"product_name\": \"SamsungTV\", \"review\": \"Love the smart features and the remote. Simplifies everything.\"},\n",
        "    {\"id\": 23, \"category\": \"TV\", \"product_name\": \"SamsungTV\", \"review\": \"Sound quality could be better. Picture is stunning though.\"},\n",
        "    {\"id\": 24, \"category\": \"TV\", \"product_name\": \"SamsungTV\", \"review\": \"Connectivity options are plenty and easy to set up.\"},\n",
        "    {\"id\": 25, \"category\": \"TV\", \"product_name\": \"SamsungTV\", \"review\": \"Sleek design that complements the living room decor.\"},\n",
        "    {\"id\": 26, \"category\": \"TV\", \"product_name\": \"SamsungTV\", \"review\": \"The built-in apps and interface are user-friendly.\"},\n",
        "    {\"id\": 27, \"category\": \"TV\", \"product_name\": \"SamsungTV\", \"review\": \"Ambient mode is a nice touch for when not watching.\"},\n",
        "    {\"id\": 28, \"category\": \"TV\", \"product_name\": \"SamsungTV\", \"review\": \"Gaming mode offers a fantastic experience with low latency.\"},\n",
        "    {\"id\": 29, \"category\": \"TV\", \"product_name\": \"SamsungTV\", \"review\": \"HDR content looks spectacular.\"},\n",
        "    {\"id\": 30, \"category\": \"TV\", \"product_name\": \"SamsungTV\", \"review\": \"Remote control with voice command is super convenient.\"},\n",
        "    {\"id\": 31, \"category\": \"TV\", \"product_name\": \"SamsungTV\", \"review\": \"Crisp and clear audio, though an external system enhances it.\"},\n",
        "    {\"id\": 32, \"category\": \"TV\", \"product_name\": \"SamsungTV\", \"review\": \"Wall mounting was straightforward and secure.\"},\n",
        "    {\"id\": 33, \"category\": \"TV\", \"product_name\": \"SamsungTV\", \"review\": \"Streaming apps load quickly and play smoothly.\"},\n",
        "    {\"id\": 34, \"category\": \"TV\", \"product_name\": \"SamsungTV\", \"review\": \"Regular software updates keep the TV fresh.\"},\n",
        "    {\"id\": 35, \"category\": \"TV\", \"product_name\": \"SamsungTV\", \"review\": \"Multiple HDMI ports allow for various device connections.\"},\n",
        "    {\"id\": 36, \"category\": \"TV\", \"product_name\": \"SamsungTV\", \"review\": \"Power consumption is efficient.\"},\n",
        "    {\"id\": 37, \"category\": \"TV\", \"product_name\": \"SamsungTV\", \"review\": \"Tizen OS is intuitive and bug-free.\"},\n",
        "    {\"id\": 38, \"category\": \"TV\", \"product_name\": \"SamsungTV\", \"review\": \"The contrast ratio and deep blacks are impressive.\"},\n",
        "    {\"id\": 39, \"category\": \"TV\", \"product_name\": \"SamsungTV\", \"review\": \"No motion blur during fast-paced scenes.\"},\n",
        "    {\"id\": 40, \"category\": \"TV\", \"product_name\": \"SamsungTV\", \"review\": \"Overall, a solid investment for quality viewing.\"},\n",
        "\n",
        "    # Ergonomic Chair Reviews\n",
        "    {\"id\": 41, \"category\": \"Furniture\", \"product_name\": \"Ergonomic Chair\", \"review\": \"Feels really comfortable even after long hours.\"},\n",
        "    {\"id\": 42, \"category\": \"Furniture\", \"product_name\": \"Ergonomic Chair\", \"review\": \"Assembly was a bit tough, but the comfort is unmatched.\"},\n",
        "    {\"id\": 43, \"category\": \"Furniture\", \"product_name\": \"Ergonomic Chair\", \"review\": \"Good support for back but wish it had more adjustability.\"},\n",
        "    {\"id\": 44, \"category\": \"Furniture\", \"product_name\": \"Ergonomic Chair\", \"review\": \"The material breathes well. No more sweaty backs.\"},\n",
        "    {\"id\": 45, \"category\": \"Furniture\", \"product_name\": \"Ergonomic Chair\", \"review\": \"Sturdy build and doesn't wobble.\"},\n",
        "    {\"id\": 46, \"category\": \"Furniture\", \"product_name\": \"Ergonomic Chair\", \"review\": \"The adjustable armrests are a godsend.\"},\n",
        "    {\"id\": 47, \"category\": \"Furniture\", \"product_name\": \"Ergonomic Chair\", \"review\": \"Feels like a high-end chair but without the hefty price tag.\"},\n",
        "    {\"id\": 48, \"category\": \"Furniture\", \"product_name\": \"Ergonomic Chair\", \"review\": \"Rollers are smooth and don't scratch the floor.\"},\n",
        "    {\"id\": 49, \"category\": \"Furniture\", \"product_name\": \"Ergonomic Chair\", \"review\": \"The reclining feature is smooth and holds well.\"},\n",
        "    {\"id\": 50, \"category\": \"Furniture\", \"product_name\": \"Ergonomic Chair\", \"review\": \"Perfect for both office and gaming needs.\"},\n",
        "    {\"id\": 51, \"category\": \"Furniture\", \"product_name\": \"Ergonomic Chair\", \"review\": \"Height adjustment is fluid and stays in place.\"},\n",
        "    {\"id\": 52, \"category\": \"Furniture\", \"product_name\": \"Ergonomic Chair\", \"review\": \"The cushioning is just right - not too soft or too firm.\"},\n",
        "    {\"id\": 53, \"category\": \"Furniture\", \"product_name\": \"Ergonomic Chair\", \"review\": \"Customer service was helpful with inquiries.\"},\n",
        "    {\"id\": 54, \"category\": \"Furniture\", \"product_name\": \"Ergonomic Chair\", \"review\": \"Fits well in both professional and casual room settings.\"},\n",
        "    {\"id\": 55, \"category\": \"Furniture\", \"product_name\": \"Ergonomic Chair\", \"review\": \"The headrest provides adequate neck support.\"},\n",
        "    {\"id\": 56, \"category\": \"Furniture\", \"product_name\": \"Ergonomic Chair\", \"review\": \"Maintains good posture even after extended use.\"},\n",
        "    {\"id\": 57, \"category\": \"Furniture\", \"product_name\": \"Ergonomic Chair\", \"review\": \"The lumbar support is adjustable and supportive.\"},\n",
        "    {\"id\": 58, \"category\": \"Furniture\", \"product_name\": \"Ergonomic Chair\", \"review\": \"Easy to clean and maintain.\"},\n",
        "    {\"id\": 59, \"category\": \"Furniture\", \"product_name\": \"Ergonomic Chair\", \"review\": \"Quality far surpasses the price.\"},\n",
        "    {\"id\": 60, \"category\": \"Furniture\", \"product_name\": \"Ergonomic Chair\", \"review\": \"A great investment for anyone spending hours seated.\"},\n",
        "]\n"
      ]
    },
    {
      "cell_type": "markdown",
      "metadata": {
        "id": "RdNhHZmwH9ZX"
      },
      "source": [
        "# Create in memory db."
      ]
    },
    {
      "cell_type": "code",
      "execution_count": null,
      "metadata": {
        "id": "yPSijIAdT-f-"
      },
      "outputs": [],
      "source": [
        "engine = create_engine(\"sqlite:///:memory:\")\n",
        "metadata_obj = MetaData()\n",
        "\n",
        "# create product reviews SQL table\n",
        "table_name = \"product_reviews\"\n",
        "city_stats_table = Table(\n",
        "    table_name,\n",
        "    metadata_obj,\n",
        "    Column(\"id\", Integer(), primary_key=True),\n",
        "    Column(\"category\", String(16), primary_key=True),\n",
        "    Column(\"product_name\", Integer),\n",
        "    Column(\"review\", String(16), nullable=False)\n",
        ")\n",
        "metadata_obj.create_all(engine)\n",
        "\n",
        "sql_database = SQLDatabase(engine, include_tables=[\"product_reviews\"])\n",
        "\n",
        "for row in rows:\n",
        "    stmt = insert(city_stats_table).values(**row)\n",
        "    with engine.connect() as connection:\n",
        "        cursor = connection.execute(stmt)\n",
        "        connection.commit()"
      ]
    },
    {
      "cell_type": "markdown",
      "metadata": {
        "id": "oBBNA_8pp5Tm"
      },
      "source": [
        "# SQL + RAG\n",
        "\n",
        "**Three-Step Process to Answer Complex Questions using SQL and List Indexing:**\n",
        "\n",
        "1. **Decomposition of the Question:**\n",
        "\n",
        "*   **Primary Query Formation:** Phrase the main question in natural language suitable for extracting preliminary data from the SQL table.\n",
        "*   **Secondary Query Formation:** Formulate an auxiliary question that operates on the results of the primary query. This will guide the final extraction\n",
        "\n",
        "2. **Data Retrieval:** Execute the primary SQL query to gather the initial set of results.\n",
        "\n",
        "3. **Final Answer Generation:** Utilize List Index to refine or interpret the results based on the secondary question, leading to the final desired answer."
      ]
    },
    {
      "cell_type": "markdown",
      "metadata": {
        "id": "yRnNkiWeE28y"
      },
      "source": [
        "# Decomposition of the Question"
      ]
    },
    {
      "cell_type": "code",
      "execution_count": null,
      "metadata": {
        "colab": {
          "base_uri": "https://localhost:8080/"
        },
        "id": "lOdhJmqtIX1l",
        "outputId": "f96135fb-ec9a-494a-8052-450a78b5ba53"
      },
      "outputs": [
        {
          "name": "stderr",
          "output_type": "stream",
          "text": [
            "[nltk_data] Downloading package punkt to /tmp/llama_index...\n",
            "[nltk_data]   Unzipping tokenizers/punkt.zip.\n"
          ]
        }
      ],
      "source": [
        "# set llm\n",
        "openai.api_key = 'YOUR_OPENAI_API_KEY'\n",
        "\n",
        "llm = OpenAI(temperature=0, model=\"gpt-3.5-turbo\")\n",
        "service_context = ServiceContext.from_defaults(llm=llm)"
      ]
    },
    {
      "cell_type": "code",
      "execution_count": null,
      "metadata": {
        "id": "M6BA0HAbA5um"
      },
      "outputs": [],
      "source": [
        "def generate_questions(user_query: str) -> List[str]:\n",
        "  system_message = '''\n",
        "  You are given with Postgres table with the following columns.\n",
        "\n",
        "  city_name, population, country, reviews.\n",
        "\n",
        "  Your task is to decompose the given question into the following two questions.\n",
        "\n",
        "  1. Question in natural language that needs to be asked to retrieve results from the table.\n",
        "  2. Question that needs to be asked on the top of the result from the first question to provide the final answer.\n",
        "\n",
        "  Example:\n",
        "\n",
        "  Input:\n",
        "  How is the culture of countries whose population is more than 5000000\n",
        "\n",
        "  Output:\n",
        "  1. Get the reviews of countries whose population is more than 5000000\n",
        "  2. Provide the culture of countries\n",
        "  '''\n",
        "\n",
        "  messages = [\n",
        "      ChatMessage(role=\"system\", content=system_message),\n",
        "      ChatMessage(role=\"user\", content=user_query),\n",
        "  ]\n",
        "  generated_questions = llm.chat(messages).message.content.split('\\n')\n",
        "\n",
        "  return generated_questions"
      ]
    },
    {
      "cell_type": "code",
      "execution_count": null,
      "metadata": {
        "id": "UCTY3MZOCfc3"
      },
      "outputs": [],
      "source": [
        "user_query = \"Get the summary of reviews of Iphone13;\"\n",
        "\n",
        "text_to_sql_query, rag_query = generate_questions(user_query)"
      ]
    },
    {
      "cell_type": "code",
      "execution_count": null,
      "metadata": {
        "colab": {
          "base_uri": "https://localhost:8080/",
          "height": 54
        },
        "id": "LJgyHwEmGE2x",
        "outputId": "32de5ae6-a4a3-489f-dc85-6ac0c77f8e25"
      },
      "outputs": [
        {
          "data": {
            "text/html": [
              "<p style=\"font-size:20px\">('1. Retrieve the reviews of the Iphone13.', '2. Provide a summary of the reviews.')</p>"
            ],
            "text/plain": [
              "<IPython.core.display.HTML object>"
            ]
          },
          "metadata": {},
          "output_type": "display_data"
        }
      ],
      "source": [
        "display(HTML(f'<p style=\"font-size:20px\">{text_to_sql_query, rag_query}</p>'))"
      ]
    },
    {
      "cell_type": "markdown",
      "metadata": {
        "id": "MRLW7YPrE-IT"
      },
      "source": [
        "# Execute the primary SQL query to gather the initial set of results."
      ]
    },
    {
      "cell_type": "code",
      "execution_count": null,
      "metadata": {
        "id": "KUTTbnIvUZmf"
      },
      "outputs": [],
      "source": [
        "# Create SQL Query Engine\n",
        "sql_query_engine = NLSQLTableQueryEngine(\n",
        "    sql_database=sql_database,\n",
        "    tables=[\"product_reviews\"],\n",
        "    synthesize_response = False,\n",
        "    service_context = service_context\n",
        ")"
      ]
    },
    {
      "cell_type": "code",
      "execution_count": null,
      "metadata": {
        "id": "vDepmBWAbe7w"
      },
      "outputs": [],
      "source": [
        "sql_response = sql_query_engine.query(text_to_sql_query)\n",
        "\n",
        "sql_response_list = ast.literal_eval(sql_response.response)\n",
        "\n",
        "text = [' '.join(t) for t in sql_response_list]\n",
        "text = ' '.join(text)"
      ]
    },
    {
      "cell_type": "code",
      "execution_count": null,
      "metadata": {
        "colab": {
          "base_uri": "https://localhost:8080/",
          "height": 54
        },
        "id": "OYTTtK4JohE8",
        "outputId": "1798dfb9-929e-4e79-d43a-1a725a3e90b0"
      },
      "outputs": [
        {
          "data": {
            "text/html": [
              "<p style=\"font-size:20px\">SELECT review\n",
              "FROM product_reviews\n",
              "WHERE product_name = 'Iphone13';</p>"
            ],
            "text/plain": [
              "<IPython.core.display.HTML object>"
            ]
          },
          "metadata": {},
          "output_type": "display_data"
        }
      ],
      "source": [
        "# Generated SQL Query\n",
        "display(HTML(f'<p style=\"font-size:20px\">{sql_response.metadata[\"sql_query\"]}</p>'))"
      ]
    },
    {
      "cell_type": "markdown",
      "metadata": {
        "id": "8v17lFZwFFFQ"
      },
      "source": [
        "# List Index to refine or interpret the results based on the secondary question"
      ]
    },
    {
      "cell_type": "code",
      "execution_count": null,
      "metadata": {
        "id": "qvky0Kh8VCeD"
      },
      "outputs": [],
      "source": [
        "listindex = ListIndex([Document(text=text)])\n",
        "list_query_engine = listindex.as_query_engine()"
      ]
    },
    {
      "cell_type": "code",
      "execution_count": null,
      "metadata": {
        "id": "fPiaDI8vFbQL"
      },
      "outputs": [],
      "source": [
        "summary = list_query_engine.query(rag_query)"
      ]
    },
    {
      "cell_type": "code",
      "execution_count": null,
      "metadata": {
        "colab": {
          "base_uri": "https://localhost:8080/",
          "height": 178
        },
        "id": "f4XAJneobKwh",
        "outputId": "f8292e82-8fc4-4c40-be7c-e9736f1c969c"
      },
      "outputs": [
        {
          "data": {
            "text/html": [
              "<p style=\"font-size:20px\">The reviews for the iPhone are overwhelmingly positive. Users praise its amazing battery life, camera quality, stunning design, and performance. The A15 chip's speed and the seamless user experience with the new iOS are also highly regarded. The 5G capabilities and lightning-fast internet browsing are standout features. The build quality is top-notch, and the enhanced camera system produces more vivid pictures. Face ID is faster and more responsive, and the storage options are great. The night mode photos are outstanding, and the ceramic shield front cover is a nice touch. The battery life lasts all day even with heavy use, and the video recording quality is cinema-grade. The gaming experience is smooth with no lags, and the dual eSIM support is a game changer for travelers. The stereo speakers produce clear and loud audio, and the MagSafe accessories add to its versatility. The water and dust resistance is reliable, and the graphics and performance are top-tier. Overall, it is considered the best smartphone on the market.</p>"
            ],
            "text/plain": [
              "<IPython.core.display.HTML object>"
            ]
          },
          "metadata": {},
          "output_type": "display_data"
        }
      ],
      "source": [
        "# Final answer\n",
        "display(HTML(f'<p style=\"font-size:20px\">{summary.response}</p>'))"
      ]
    },
    {
      "cell_type": "markdown",
      "metadata": {
        "id": "NygkzTwlsFnM"
      },
      "source": [
        "# Now let's wrap everything under a function."
      ]
    },
    {
      "cell_type": "code",
      "execution_count": null,
      "metadata": {
        "id": "XLMRL_iiHXsP"
      },
      "outputs": [],
      "source": [
        "def sql_rag(user_query: str) -> str:\n",
        "  text_to_sql_query, rag_query = generate_questions(user_query)\n",
        "\n",
        "  sql_response = sql_query_engine.query(text_to_sql_query)\n",
        "\n",
        "  sql_response_list = ast.literal_eval(sql_response.response)\n",
        "\n",
        "  text = [' '.join(t) for t in sql_response_list]\n",
        "  text = ' '.join(text)\n",
        "\n",
        "  listindex = ListIndex([Document(text=text)])\n",
        "  list_query_engine = listindex.as_query_engine()\n",
        "\n",
        "  summary = list_query_engine.query(rag_query)\n",
        "\n",
        "  return summary.response"
      ]
    },
    {
      "cell_type": "markdown",
      "metadata": {
        "id": "3wwKVHn6smK-"
      },
      "source": [
        "# Let's try out few examples."
      ]
    },
    {
      "cell_type": "code",
      "execution_count": null,
      "metadata": {
        "colab": {
          "base_uri": "https://localhost:8080/",
          "height": 87
        },
        "id": "zPAs_GSfsjGY",
        "outputId": "1495640c-e5c3-4462-9160-b2b65cc93198"
      },
      "outputs": [
        {
          "data": {
            "application/vnd.google.colaboratory.intrinsic+json": {
              "type": "string"
            },
            "text/plain": [
              "'The sentiment of the reviews for the Samsung TV product is generally positive. Users express satisfaction with the picture clarity, vibrant colors, and stunning picture quality. They appreciate the smart features, user-friendly interface, and easy connectivity options. The sleek design and wall-mounting capability are also praised. The ambient mode, gaming mode, and HDR content are mentioned as standout features. Users find the remote control with voice command convenient and appreciate the regular software updates. However, some users mention that the sound quality could be better and suggest using an external audio system. Overall, the reviews indicate that the Samsung TV is considered a solid investment for quality viewing.'"
            ]
          },
          "execution_count": 16,
          "metadata": {},
          "output_type": "execute_result"
        }
      ],
      "source": [
        "sql_rag(\"How is the sentiment of SamsungTV product?\")"
      ]
    },
    {
      "cell_type": "code",
      "execution_count": null,
      "metadata": {
        "colab": {
          "base_uri": "https://localhost:8080/",
          "height": 35
        },
        "id": "Uo67vB6RtrNc",
        "outputId": "d845b2ad-3417-4871-df11-f3e13734cbf9"
      },
      "outputs": [
        {
          "data": {
            "application/vnd.google.colaboratory.intrinsic+json": {
              "type": "string"
            },
            "text/plain": [
              "'The overall satisfaction of people with the Ergonomic Chair is high.'"
            ]
          },
          "execution_count": 17,
          "metadata": {},
          "output_type": "execute_result"
        }
      ],
      "source": [
        "sql_rag(\"Are people happy with Ergonomic Chair?\")"
      ]
    },
    {
      "cell_type": "code",
      "execution_count": null,
      "metadata": {
        "id": "zPO9NRVpxzlu"
      },
      "outputs": [],
      "source": []
    }
  ],
  "metadata": {
    "colab": {
      "provenance": []
    },
    "kernelspec": {
      "display_name": "Python 3",
      "name": "python3"
    },
    "language_info": {
      "name": "python"
    }
  },
  "nbformat": 4,
  "nbformat_minor": 0
}
