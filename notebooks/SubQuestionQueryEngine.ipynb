{
  "cells": [
    {
      "cell_type": "markdown",
      "metadata": {
        "id": "NzWzjWew9zW-"
      },
      "source": [
        "# Compare Documents\n",
        "# SubQuestionQueryEngine"
      ]
    },
    {
      "cell_type": "code",
      "execution_count": null,
      "metadata": {
        "colab": {
          "base_uri": "https://localhost:8080/"
        },
        "id": "sirmT_ZV9yJK",
        "outputId": "637005f8-10b5-4266-f2a5-2bc7c0cc37fb"
      },
      "outputs": [
        {
          "name": "stdout",
          "output_type": "stream",
          "text": [
            "Requirement already satisfied: llama-index in /usr/local/lib/python3.10/dist-packages (0.8.10)\n",
            "Collecting pypdf\n",
            "  Downloading pypdf-3.15.3-py3-none-any.whl (271 kB)\n",
            "\u001b[2K     \u001b[90m━━━━━━━━━━━━━━━━━━━━━━━━━━━━━━━━━━━━━━━\u001b[0m \u001b[32m271.9/271.9 kB\u001b[0m \u001b[31m3.0 MB/s\u001b[0m eta \u001b[36m0:00:00\u001b[0m\n",
            "\u001b[?25hRequirement already satisfied: tiktoken in /usr/local/lib/python3.10/dist-packages (from llama-index) (0.4.0)\n",
            "Requirement already satisfied: dataclasses-json in /usr/local/lib/python3.10/dist-packages (from llama-index) (0.5.14)\n",
            "Requirement already satisfied: langchain>=0.0.262 in /usr/local/lib/python3.10/dist-packages (from llama-index) (0.0.273)\n",
            "Requirement already satisfied: sqlalchemy>=2.0.15 in /usr/local/lib/python3.10/dist-packages (from llama-index) (2.0.20)\n",
            "Requirement already satisfied: numpy in /usr/local/lib/python3.10/dist-packages (from llama-index) (1.23.5)\n",
            "Requirement already satisfied: tenacity<9.0.0,>=8.2.0 in /usr/local/lib/python3.10/dist-packages (from llama-index) (8.2.3)\n",
            "Requirement already satisfied: openai>=0.26.4 in /usr/local/lib/python3.10/dist-packages (from llama-index) (0.27.9)\n",
            "Requirement already satisfied: pandas in /usr/local/lib/python3.10/dist-packages (from llama-index) (1.5.3)\n",
            "Requirement already satisfied: urllib3<2 in /usr/local/lib/python3.10/dist-packages (from llama-index) (1.26.16)\n",
            "Requirement already satisfied: fsspec>=2023.5.0 in /usr/local/lib/python3.10/dist-packages (from llama-index) (2023.6.0)\n",
            "Requirement already satisfied: typing-inspect>=0.8.0 in /usr/local/lib/python3.10/dist-packages (from llama-index) (0.9.0)\n",
            "Requirement already satisfied: typing-extensions>=4.5.0 in /usr/local/lib/python3.10/dist-packages (from llama-index) (4.7.1)\n",
            "Requirement already satisfied: beautifulsoup4 in /usr/local/lib/python3.10/dist-packages (from llama-index) (4.11.2)\n",
            "Requirement already satisfied: nest-asyncio in /usr/local/lib/python3.10/dist-packages (from llama-index) (1.5.7)\n",
            "Requirement already satisfied: PyYAML>=5.3 in /usr/local/lib/python3.10/dist-packages (from langchain>=0.0.262->llama-index) (6.0.1)\n",
            "Requirement already satisfied: aiohttp<4.0.0,>=3.8.3 in /usr/local/lib/python3.10/dist-packages (from langchain>=0.0.262->llama-index) (3.8.5)\n",
            "Requirement already satisfied: async-timeout<5.0.0,>=4.0.0 in /usr/local/lib/python3.10/dist-packages (from langchain>=0.0.262->llama-index) (4.0.3)\n",
            "Requirement already satisfied: langsmith<0.1.0,>=0.0.21 in /usr/local/lib/python3.10/dist-packages (from langchain>=0.0.262->llama-index) (0.0.26)\n",
            "Requirement already satisfied: numexpr<3.0.0,>=2.8.4 in /usr/local/lib/python3.10/dist-packages (from langchain>=0.0.262->llama-index) (2.8.5)\n",
            "Requirement already satisfied: pydantic<3,>=1 in /usr/local/lib/python3.10/dist-packages (from langchain>=0.0.262->llama-index) (2.2.1)\n",
            "Requirement already satisfied: requests<3,>=2 in /usr/local/lib/python3.10/dist-packages (from langchain>=0.0.262->llama-index) (2.31.0)\n",
            "Requirement already satisfied: marshmallow<4.0.0,>=3.18.0 in /usr/local/lib/python3.10/dist-packages (from dataclasses-json->llama-index) (3.20.1)\n",
            "Requirement already satisfied: tqdm in /usr/local/lib/python3.10/dist-packages (from openai>=0.26.4->llama-index) (4.66.1)\n",
            "Requirement already satisfied: greenlet!=0.4.17 in /usr/local/lib/python3.10/dist-packages (from sqlalchemy>=2.0.15->llama-index) (2.0.2)\n",
            "Requirement already satisfied: mypy-extensions>=0.3.0 in /usr/local/lib/python3.10/dist-packages (from typing-inspect>=0.8.0->llama-index) (1.0.0)\n",
            "Requirement already satisfied: soupsieve>1.2 in /usr/local/lib/python3.10/dist-packages (from beautifulsoup4->llama-index) (2.4.1)\n",
            "Requirement already satisfied: python-dateutil>=2.8.1 in /usr/local/lib/python3.10/dist-packages (from pandas->llama-index) (2.8.2)\n",
            "Requirement already satisfied: pytz>=2020.1 in /usr/local/lib/python3.10/dist-packages (from pandas->llama-index) (2023.3)\n",
            "Requirement already satisfied: regex>=2022.1.18 in /usr/local/lib/python3.10/dist-packages (from tiktoken->llama-index) (2023.6.3)\n",
            "Requirement already satisfied: attrs>=17.3.0 in /usr/local/lib/python3.10/dist-packages (from aiohttp<4.0.0,>=3.8.3->langchain>=0.0.262->llama-index) (23.1.0)\n",
            "Requirement already satisfied: charset-normalizer<4.0,>=2.0 in /usr/local/lib/python3.10/dist-packages (from aiohttp<4.0.0,>=3.8.3->langchain>=0.0.262->llama-index) (3.2.0)\n",
            "Requirement already satisfied: multidict<7.0,>=4.5 in /usr/local/lib/python3.10/dist-packages (from aiohttp<4.0.0,>=3.8.3->langchain>=0.0.262->llama-index) (6.0.4)\n",
            "Requirement already satisfied: yarl<2.0,>=1.0 in /usr/local/lib/python3.10/dist-packages (from aiohttp<4.0.0,>=3.8.3->langchain>=0.0.262->llama-index) (1.9.2)\n",
            "Requirement already satisfied: frozenlist>=1.1.1 in /usr/local/lib/python3.10/dist-packages (from aiohttp<4.0.0,>=3.8.3->langchain>=0.0.262->llama-index) (1.4.0)\n",
            "Requirement already satisfied: aiosignal>=1.1.2 in /usr/local/lib/python3.10/dist-packages (from aiohttp<4.0.0,>=3.8.3->langchain>=0.0.262->llama-index) (1.3.1)\n",
            "Requirement already satisfied: packaging>=17.0 in /usr/local/lib/python3.10/dist-packages (from marshmallow<4.0.0,>=3.18.0->dataclasses-json->llama-index) (23.1)\n",
            "Requirement already satisfied: annotated-types>=0.4.0 in /usr/local/lib/python3.10/dist-packages (from pydantic<3,>=1->langchain>=0.0.262->llama-index) (0.5.0)\n",
            "Requirement already satisfied: pydantic-core==2.6.1 in /usr/local/lib/python3.10/dist-packages (from pydantic<3,>=1->langchain>=0.0.262->llama-index) (2.6.1)\n",
            "Requirement already satisfied: six>=1.5 in /usr/local/lib/python3.10/dist-packages (from python-dateutil>=2.8.1->pandas->llama-index) (1.16.0)\n",
            "Requirement already satisfied: idna<4,>=2.5 in /usr/local/lib/python3.10/dist-packages (from requests<3,>=2->langchain>=0.0.262->llama-index) (3.4)\n",
            "Requirement already satisfied: certifi>=2017.4.17 in /usr/local/lib/python3.10/dist-packages (from requests<3,>=2->langchain>=0.0.262->llama-index) (2023.7.22)\n",
            "Installing collected packages: pypdf\n",
            "Successfully installed pypdf-3.15.3\n"
          ]
        }
      ],
      "source": [
        "!pip install llama-index pypdf"
      ]
    },
    {
      "cell_type": "code",
      "execution_count": null,
      "metadata": {
        "id": "uQcsPrXS9-qn"
      },
      "outputs": [],
      "source": [
        "import logging\n",
        "import sys\n",
        "\n",
        "logging.basicConfig(stream=sys.stdout, level=logging.INFO)\n",
        "logging.getLogger().handlers = []\n",
        "logging.getLogger().addHandler(logging.StreamHandler(stream=sys.stdout))\n",
        "\n",
        "import openai\n",
        "openai.api_key = 'YOUR_OPENAI_API_KEY'"
      ]
    },
    {
      "cell_type": "code",
      "execution_count": null,
      "metadata": {
        "id": "Mu7ZI3_O-CDC"
      },
      "outputs": [],
      "source": [
        "from llama_index import SimpleDirectoryReader, ServiceContext, VectorStoreIndex\n",
        "from llama_index import set_global_service_context\n",
        "from llama_index.response.pprint_utils import pprint_response\n",
        "from llama_index.tools import QueryEngineTool, ToolMetadata\n",
        "from llama_index.query_engine import SubQuestionQueryEngine"
      ]
    },
    {
      "cell_type": "markdown",
      "metadata": {
        "id": "dj4J1NYO__6L"
      },
      "source": [
        "# Load uber and lyft documents"
      ]
    },
    {
      "cell_type": "code",
      "execution_count": null,
      "metadata": {
        "id": "-gqVPUhF-MsC"
      },
      "outputs": [],
      "source": [
        "lyft_docs = SimpleDirectoryReader(input_files=[\"lyft_2021.pdf\"]).load_data()\n",
        "uber_docs = SimpleDirectoryReader(input_files=[\"uber_2021.pdf\"]).load_data()"
      ]
    },
    {
      "cell_type": "code",
      "execution_count": null,
      "metadata": {
        "colab": {
          "base_uri": "https://localhost:8080/"
        },
        "id": "6WRclpxW-QOX",
        "outputId": "dcbc71f8-8f6d-4f57-c56e-82efdca5ad15"
      },
      "outputs": [
        {
          "name": "stdout",
          "output_type": "stream",
          "text": [
            "Loaded lyft 10-K with 238 pages\n",
            "Loaded Uber 10-K with 307 pages\n"
          ]
        }
      ],
      "source": [
        "print(f'Loaded lyft 10-K with {len(lyft_docs)} pages')\n",
        "print(f'Loaded Uber 10-K with {len(uber_docs)} pages')"
      ]
    },
    {
      "cell_type": "markdown",
      "metadata": {
        "id": "c9l5XFXOACgA"
      },
      "source": [
        "# Build indices"
      ]
    },
    {
      "cell_type": "code",
      "execution_count": null,
      "metadata": {
        "colab": {
          "base_uri": "https://localhost:8080/"
        },
        "id": "xBzg6G9H-QuH",
        "outputId": "0a0032e1-4682-4eaf-d619-d3b9518c4248"
      },
      "outputs": [
        {
          "name": "stderr",
          "output_type": "stream",
          "text": [
            "[nltk_data] Downloading package punkt to /tmp/llama_index...\n",
            "[nltk_data]   Unzipping tokenizers/punkt.zip.\n"
          ]
        }
      ],
      "source": [
        "lyft_index = VectorStoreIndex.from_documents(lyft_docs)\n",
        "uber_index = VectorStoreIndex.from_documents(uber_docs)"
      ]
    },
    {
      "cell_type": "markdown",
      "metadata": {
        "id": "OG9N9PT-AG_8"
      },
      "source": [
        "# Basic QA"
      ]
    },
    {
      "cell_type": "code",
      "execution_count": null,
      "metadata": {
        "id": "tMTcHwSs-Uf1"
      },
      "outputs": [],
      "source": [
        "lyft_engine = lyft_index.as_query_engine(similarity_top_k=3)\n"
      ]
    },
    {
      "cell_type": "code",
      "execution_count": null,
      "metadata": {
        "id": "Og6bs-Nm-U61"
      },
      "outputs": [],
      "source": [
        "uber_engine = uber_index.as_query_engine(similarity_top_k=3)\n"
      ]
    },
    {
      "cell_type": "code",
      "execution_count": null,
      "metadata": {
        "id": "ImwBL7W2-XyR"
      },
      "outputs": [],
      "source": [
        "response = await lyft_engine.aquery('What is the revenue of Lyft in 2021? Answer in millions with page reference')\n"
      ]
    },
    {
      "cell_type": "code",
      "execution_count": null,
      "metadata": {
        "colab": {
          "base_uri": "https://localhost:8080/"
        },
        "id": "v-fLA2rG_lM-",
        "outputId": "13e2917a-c84a-40c6-b791-5671a8c00986"
      },
      "outputs": [
        {
          "name": "stdout",
          "output_type": "stream",
          "text": [
            "The revenue of Lyft in 2021 was $3,208.3 million. (Page reference: 63)\n"
          ]
        }
      ],
      "source": [
        "print(response)"
      ]
    },
    {
      "cell_type": "code",
      "execution_count": null,
      "metadata": {
        "id": "WUW9z_MN-YUt"
      },
      "outputs": [],
      "source": [
        "response = await uber_engine.aquery('What is the revenue of Uber in 2021? Answer in millions, with page reference')\n"
      ]
    },
    {
      "cell_type": "code",
      "execution_count": null,
      "metadata": {
        "colab": {
          "base_uri": "https://localhost:8080/"
        },
        "id": "LSyKvMZd_mkw",
        "outputId": "600f3ec1-6982-4a2d-81d5-a5d7de11b69d"
      },
      "outputs": [
        {
          "name": "stdout",
          "output_type": "stream",
          "text": [
            "The revenue of Uber in 2021 was $17,455 million. (Page reference: 98)\n"
          ]
        }
      ],
      "source": [
        "print(response)"
      ]
    },
    {
      "cell_type": "markdown",
      "metadata": {
        "id": "AN6j0tLYAJya"
      },
      "source": [
        "# For comparing between uber and lyft"
      ]
    },
    {
      "cell_type": "code",
      "execution_count": null,
      "metadata": {
        "id": "7Q6NHot0-dGY"
      },
      "outputs": [],
      "source": [
        "query_engine_tools = [\n",
        "    QueryEngineTool(\n",
        "        query_engine=lyft_engine,\n",
        "        metadata=ToolMetadata(name='lyft_10k', description='Provides information about Lyft financials for year 2021')\n",
        "    ),\n",
        "    QueryEngineTool(\n",
        "        query_engine=uber_engine,\n",
        "        metadata=ToolMetadata(name='uber_10k', description='Provides information about Uber financials for year 2021')\n",
        "    ),\n",
        "]\n",
        "\n",
        "s_engine = SubQuestionQueryEngine.from_defaults(query_engine_tools=query_engine_tools)"
      ]
    },
    {
      "cell_type": "code",
      "execution_count": null,
      "metadata": {
        "colab": {
          "base_uri": "https://localhost:8080/"
        },
        "id": "TBJbICbI-f9e",
        "outputId": "e1ee6101-a1fc-47a9-f7c9-c47d1a206786"
      },
      "outputs": [
        {
          "name": "stdout",
          "output_type": "stream",
          "text": [
            "Generated 4 sub questions.\n",
            "\u001b[36;1m\u001b[1;3m[lyft_10k] Q: What were the customer segments that grew the fastest for Lyft in 2021?\n",
            "\u001b[0m\u001b[33;1m\u001b[1;3m[uber_10k] Q: What were the customer segments that grew the fastest for Uber in 2021?\n",
            "\u001b[0m\u001b[38;5;200m\u001b[1;3m[lyft_10k] Q: Which geographies experienced the fastest growth for Lyft in 2021?\n",
            "\u001b[0m\u001b[32;1m\u001b[1;3m[uber_10k] Q: Which geographies experienced the fastest growth for Uber in 2021?\n",
            "\u001b[0m\u001b[33;1m\u001b[1;3m[uber_10k] A: The customer segments that grew the fastest for Uber in 2021 were the Mobility and Delivery segments.\n",
            "\u001b[0m\u001b[38;5;200m\u001b[1;3m[lyft_10k] A: Lyft's 2021 report does not provide specific information about the geographies that experienced the fastest growth for the company.\n",
            "\u001b[0m\u001b[36;1m\u001b[1;3m[lyft_10k] A: Lyft experienced growth in the number of Active Riders in 2021 compared to the previous year. However, the context does not provide specific information about the customer segments that grew the fastest for Lyft in 2021.\n",
            "\u001b[0m\u001b[32;1m\u001b[1;3m[uber_10k] A: Uber experienced the fastest growth in its Mobility Gross Bookings in five metropolitan areas in 2021. These metropolitan areas are Chicago, Miami, New York City in the United States, Sao Paulo in Brazil, and London in the United Kingdom.\n",
            "\u001b[0m"
          ]
        }
      ],
      "source": [
        "response = await s_engine.aquery('Compare and contrast the customer segments and geographies that grew the fastest')"
      ]
    },
    {
      "cell_type": "code",
      "execution_count": null,
      "metadata": {
        "colab": {
          "base_uri": "https://localhost:8080/"
        },
        "id": "Qn50QRnT_oWw",
        "outputId": "894c1986-51a3-4b37-943b-636ec4851ff7"
      },
      "outputs": [
        {
          "name": "stdout",
          "output_type": "stream",
          "text": [
            "The customer segments that grew the fastest for Lyft in 2021 are not specified in the given context. However, for Uber, the customer segments that grew the fastest in 2021 were the Mobility and Delivery segments. In terms of geographies, Lyft's 2021 report does not provide specific information about the geographies that experienced the fastest growth. On the other hand, Uber experienced the fastest growth in its Mobility Gross Bookings in five metropolitan areas in 2021, namely Chicago, Miami, New York City in the United States, Sao Paulo in Brazil, and London in the United Kingdom.\n"
          ]
        }
      ],
      "source": [
        "print(response)"
      ]
    },
    {
      "cell_type": "code",
      "execution_count": null,
      "metadata": {
        "colab": {
          "base_uri": "https://localhost:8080/"
        },
        "id": "liOSDYiK-iy6",
        "outputId": "f3797b93-5388-4be9-dd24-87a0d9d57087"
      },
      "outputs": [
        {
          "name": "stdout",
          "output_type": "stream",
          "text": [
            "Generated 4 sub questions.\n",
            "\u001b[36;1m\u001b[1;3m[uber_10k] Q: What was the revenue of Uber in 2020?\n",
            "\u001b[0m\u001b[33;1m\u001b[1;3m[uber_10k] Q: What was the revenue of Uber in 2021?\n",
            "\u001b[0m\u001b[38;5;200m\u001b[1;3m[lyft_10k] Q: What was the revenue of Lyft in 2020?\n",
            "\u001b[0m\u001b[32;1m\u001b[1;3m[lyft_10k] Q: What was the revenue of Lyft in 2021?\n",
            "\u001b[0m\u001b[38;5;200m\u001b[1;3m[lyft_10k] A: The revenue of Lyft in 2020 was $2,364,681.\n",
            "\u001b[0m\u001b[32;1m\u001b[1;3m[lyft_10k] A: The revenue of Lyft in 2021 was $3,208,323,000.\n",
            "\u001b[0m\u001b[33;1m\u001b[1;3m[uber_10k] A: The revenue of Uber in 2021 was $17.5 billion.\n",
            "\u001b[0m\u001b[36;1m\u001b[1;3m[uber_10k] A: The revenue of Uber in 2020 was $11,139 million.\n",
            "\u001b[0m"
          ]
        }
      ],
      "source": [
        "response = await s_engine.aquery('Compare revenue growth of Uber and Lyft from 2020 to 2021')"
      ]
    },
    {
      "cell_type": "code",
      "execution_count": null,
      "metadata": {
        "colab": {
          "base_uri": "https://localhost:8080/"
        },
        "id": "trxesUfp_kCf",
        "outputId": "ab3e531f-8ba0-48ea-9534-8c206b38c049"
      },
      "outputs": [
        {
          "name": "stdout",
          "output_type": "stream",
          "text": [
            "The revenue growth of Uber from 2020 to 2021 was significantly higher compared to Lyft.\n"
          ]
        }
      ],
      "source": [
        "print(response)"
      ]
    },
    {
      "cell_type": "code",
      "execution_count": null,
      "metadata": {
        "id": "Irmod-n4_t59"
      },
      "outputs": [],
      "source": []
    }
  ],
  "metadata": {
    "colab": {
      "provenance": []
    },
    "kernelspec": {
      "display_name": "Python 3",
      "name": "python3"
    },
    "language_info": {
      "name": "python"
    }
  },
  "nbformat": 4,
  "nbformat_minor": 0
}
